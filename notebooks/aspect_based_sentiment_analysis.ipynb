{
 "cells": [
  {
   "cell_type": "markdown",
   "id": "596bb77d",
   "metadata": {},
   "source": [
    "### Load Data"
   ]
  },
  {
   "cell_type": "code",
   "execution_count": 2,
   "id": "e7400040",
   "metadata": {},
   "outputs": [
    {
     "name": "stdout",
     "output_type": "stream",
     "text": [
      "(1963, 6)\n"
     ]
    },
    {
     "data": {
      "text/html": [
       "<div>\n",
       "<style scoped>\n",
       "    .dataframe tbody tr th:only-of-type {\n",
       "        vertical-align: middle;\n",
       "    }\n",
       "\n",
       "    .dataframe tbody tr th {\n",
       "        vertical-align: top;\n",
       "    }\n",
       "\n",
       "    .dataframe thead th {\n",
       "        text-align: right;\n",
       "    }\n",
       "</style>\n",
       "<table border=\"1\" class=\"dataframe\">\n",
       "  <thead>\n",
       "    <tr style=\"text-align: right;\">\n",
       "      <th></th>\n",
       "      <th>Category</th>\n",
       "      <th>Rating</th>\n",
       "      <th>Review</th>\n",
       "      <th>Sentiment</th>\n",
       "      <th>Emotion</th>\n",
       "      <th>Decisions</th>\n",
       "    </tr>\n",
       "  </thead>\n",
       "  <tbody>\n",
       "    <tr>\n",
       "      <th>0</th>\n",
       "      <td>Amazon Alexa</td>\n",
       "      <td>4</td>\n",
       "      <td>I liked this gen very much. The only disadvant...</td>\n",
       "      <td>Neutral</td>\n",
       "      <td>Sadness</td>\n",
       "      <td>{\"Overall Quality\": \"Positive\", \"Voice Recogni...</td>\n",
       "    </tr>\n",
       "    <tr>\n",
       "      <th>1</th>\n",
       "      <td>Amazon Alexa</td>\n",
       "      <td>3</td>\n",
       "      <td>This latest version of Echo Dot may be a bette...</td>\n",
       "      <td>Negative</td>\n",
       "      <td>Anger</td>\n",
       "      <td>{\"Voice Recognition\": \"Negative\", \"Music Strea...</td>\n",
       "    </tr>\n",
       "    <tr>\n",
       "      <th>2</th>\n",
       "      <td>Amazon Alexa</td>\n",
       "      <td>4</td>\n",
       "      <td>it could  not be possible to reset it at my ne...</td>\n",
       "      <td>Negative</td>\n",
       "      <td>Sadness</td>\n",
       "      <td>{\"Functionality\": \"Negative\"}</td>\n",
       "    </tr>\n",
       "    <tr>\n",
       "      <th>3</th>\n",
       "      <td>Amazon Alexa</td>\n",
       "      <td>4</td>\n",
       "      <td>Nothing great then previous ones .</td>\n",
       "      <td>Neutral</td>\n",
       "      <td>Neutral</td>\n",
       "      <td>{\"Overall Quality\": \"Negative\"}</td>\n",
       "    </tr>\n",
       "    <tr>\n",
       "      <th>4</th>\n",
       "      <td>Amazon Alexa</td>\n",
       "      <td>4</td>\n",
       "      <td>AwesomeBut some time can not listenOver all good</td>\n",
       "      <td>Positive</td>\n",
       "      <td>Happiness</td>\n",
       "      <td>{\"Sound Quality\": \"Negative\", \"Overall Quality...</td>\n",
       "    </tr>\n",
       "  </tbody>\n",
       "</table>\n",
       "</div>"
      ],
      "text/plain": [
       "       Category  Rating                                             Review  \\\n",
       "0  Amazon Alexa       4  I liked this gen very much. The only disadvant...   \n",
       "1  Amazon Alexa       3  This latest version of Echo Dot may be a bette...   \n",
       "2  Amazon Alexa       4  it could  not be possible to reset it at my ne...   \n",
       "3  Amazon Alexa       4                 Nothing great then previous ones .   \n",
       "4  Amazon Alexa       4   AwesomeBut some time can not listenOver all good   \n",
       "\n",
       "  Sentiment    Emotion                                          Decisions  \n",
       "0   Neutral    Sadness  {\"Overall Quality\": \"Positive\", \"Voice Recogni...  \n",
       "1  Negative      Anger  {\"Voice Recognition\": \"Negative\", \"Music Strea...  \n",
       "2  Negative    Sadness                      {\"Functionality\": \"Negative\"}  \n",
       "3   Neutral    Neutral                    {\"Overall Quality\": \"Negative\"}  \n",
       "4  Positive  Happiness  {\"Sound Quality\": \"Negative\", \"Overall Quality...  "
      ]
     },
     "execution_count": 2,
     "metadata": {},
     "output_type": "execute_result"
    }
   ],
   "source": [
    "import pandas as pd\n",
    "\n",
    "# Load your dataset\n",
    "df = pd.read_csv(\"D:/MSc/Sentiment & Emotion Intelligence/dataset/Product Reviews - ABSA.csv\", \n",
    "                 encoding='utf-8')\n",
    "print(df.shape)\n",
    "df.head()"
   ]
  },
  {
   "cell_type": "code",
   "execution_count": 3,
   "id": "44a70a0c",
   "metadata": {},
   "outputs": [
    {
     "name": "stdout",
     "output_type": "stream",
     "text": [
      "<class 'pandas.core.frame.DataFrame'>\n",
      "RangeIndex: 1963 entries, 0 to 1962\n",
      "Data columns (total 6 columns):\n",
      " #   Column     Non-Null Count  Dtype \n",
      "---  ------     --------------  ----- \n",
      " 0   Category   1963 non-null   object\n",
      " 1   Rating     1963 non-null   int64 \n",
      " 2   Review     1963 non-null   object\n",
      " 3   Sentiment  1963 non-null   object\n",
      " 4   Emotion    1963 non-null   object\n",
      " 5   Decisions  1963 non-null   object\n",
      "dtypes: int64(1), object(5)\n",
      "memory usage: 92.1+ KB\n"
     ]
    }
   ],
   "source": [
    "# data info\n",
    "df.info()"
   ]
  },
  {
   "cell_type": "markdown",
   "id": "a99b3bf0",
   "metadata": {},
   "source": [
    "### Data Preprocessing"
   ]
  },
  {
   "cell_type": "code",
   "execution_count": 4,
   "id": "50888d6c",
   "metadata": {},
   "outputs": [],
   "source": [
    "import re\n",
    "import contractions\n",
    "from bs4 import BeautifulSoup\n",
    "import nltk\n",
    "import emoji\n",
    "from warnings import filterwarnings\n",
    "\n",
    "filterwarnings('ignore')"
   ]
  },
  {
   "cell_type": "code",
   "execution_count": 5,
   "id": "fda533f7",
   "metadata": {},
   "outputs": [
    {
     "name": "stderr",
     "output_type": "stream",
     "text": [
      "[nltk_data] Downloading package punkt to\n",
      "[nltk_data]     C:\\Users\\HP\\AppData\\Roaming\\nltk_data...\n",
      "[nltk_data]   Package punkt is already up-to-date!\n",
      "[nltk_data] Downloading package punkt_tab to\n",
      "[nltk_data]     C:\\Users\\HP\\AppData\\Roaming\\nltk_data...\n",
      "[nltk_data]   Package punkt_tab is already up-to-date!\n",
      "[nltk_data] Downloading package wordnet to\n",
      "[nltk_data]     C:\\Users\\HP\\AppData\\Roaming\\nltk_data...\n",
      "[nltk_data]   Package wordnet is already up-to-date!\n",
      "[nltk_data] Downloading package omw-1.4 to\n",
      "[nltk_data]     C:\\Users\\HP\\AppData\\Roaming\\nltk_data...\n",
      "[nltk_data]   Package omw-1.4 is already up-to-date!\n"
     ]
    },
    {
     "data": {
      "text/plain": [
       "True"
      ]
     },
     "execution_count": 5,
     "metadata": {},
     "output_type": "execute_result"
    }
   ],
   "source": [
    "# Download resources\n",
    "nltk.download('punkt')\n",
    "nltk.download('punkt_tab')\n",
    "nltk.download('wordnet')\n",
    "nltk.download('omw-1.4')"
   ]
  },
  {
   "cell_type": "code",
   "execution_count": 6,
   "id": "509ea947",
   "metadata": {},
   "outputs": [],
   "source": [
    "# Lowercase\n",
    "def to_lowercase(text):\n",
    "    return text.lower()\n",
    "\n",
    "# Expand Contractions\n",
    "def expand_contractions(text):\n",
    "    return contractions.fix(text)\n",
    "\n",
    "# Remove HTML Tags\n",
    "def remove_html(text):\n",
    "    return BeautifulSoup(text, \"html.parser\").get_text()\n",
    "\n",
    "# Remove Emojis\n",
    "def remove_emojis(text):\n",
    "    return emoji.replace_emoji(text, replace='')\n",
    "\n",
    "# Normalize Clothing Sizes\n",
    "def normalize_clothing_sizes(text):\n",
    "    # Convert height in feet/inches to cm (approximate)\n",
    "    pattern = re.compile(r\"(\\d)'\\s?(\\d{1,2})\\\"?\")\n",
    "    def convert(match):\n",
    "        feet = int(match.group(1))\n",
    "        inches = int(match.group(2))\n",
    "        cm = round((feet * 12 + inches) * 2.54)\n",
    "        return f\"{cm} cm\"\n",
    "    return pattern.sub(convert, text)\n",
    "\n",
    "# Remove URLs\n",
    "def remove_urls(text):\n",
    "    return re.sub(r'http\\S+|www\\S+|https\\S+', '', text)\n",
    "\n",
    "# Remove Special Characters (but keep alphabets and category terms)\n",
    "def remove_special_chars(text):\n",
    "    text = re.sub(r'[^A-Za-z0-9\\s]', '', text)  # Keep alphanumeric only\n",
    "    return text\n",
    "\n",
    "# Normalize Whitespace & Line Breaks\n",
    "def normalize_whitespace(text):\n",
    "    return re.sub(r'\\s+', ' ', text).strip()"
   ]
  },
  {
   "cell_type": "code",
   "execution_count": 7,
   "id": "3defc617",
   "metadata": {},
   "outputs": [],
   "source": [
    "# Data Cleaning Pipeline\n",
    "def clean_review_absa(text):\n",
    "    if pd.isnull(text) or not isinstance(text, str):\n",
    "        return \"\"\n",
    "\n",
    "    text = to_lowercase(text)\n",
    "    text = expand_contractions(text)\n",
    "    text = remove_html(text)\n",
    "    text = remove_emojis(text)\n",
    "    text = normalize_clothing_sizes(text)\n",
    "    text = remove_urls(text)\n",
    "    text = remove_special_chars(text)\n",
    "    text = normalize_whitespace(text)\n",
    "    \n",
    "    return text"
   ]
  },
  {
   "cell_type": "code",
   "execution_count": 8,
   "id": "fe933ed6",
   "metadata": {},
   "outputs": [
    {
     "name": "stdout",
     "output_type": "stream",
     "text": [
      "(1963, 7)\n"
     ]
    },
    {
     "data": {
      "text/html": [
       "<div>\n",
       "<style scoped>\n",
       "    .dataframe tbody tr th:only-of-type {\n",
       "        vertical-align: middle;\n",
       "    }\n",
       "\n",
       "    .dataframe tbody tr th {\n",
       "        vertical-align: top;\n",
       "    }\n",
       "\n",
       "    .dataframe thead th {\n",
       "        text-align: right;\n",
       "    }\n",
       "</style>\n",
       "<table border=\"1\" class=\"dataframe\">\n",
       "  <thead>\n",
       "    <tr style=\"text-align: right;\">\n",
       "      <th></th>\n",
       "      <th>Category</th>\n",
       "      <th>Rating</th>\n",
       "      <th>Review</th>\n",
       "      <th>Sentiment</th>\n",
       "      <th>Emotion</th>\n",
       "      <th>Decisions</th>\n",
       "      <th>Cleaned_Reviews</th>\n",
       "    </tr>\n",
       "  </thead>\n",
       "  <tbody>\n",
       "    <tr>\n",
       "      <th>0</th>\n",
       "      <td>Amazon Alexa</td>\n",
       "      <td>4</td>\n",
       "      <td>I liked this gen very much. The only disadvant...</td>\n",
       "      <td>Neutral</td>\n",
       "      <td>Sadness</td>\n",
       "      <td>{\"Overall Quality\": \"Positive\", \"Voice Recogni...</td>\n",
       "      <td>i liked this gen very much the only disadvanta...</td>\n",
       "    </tr>\n",
       "    <tr>\n",
       "      <th>1</th>\n",
       "      <td>Amazon Alexa</td>\n",
       "      <td>3</td>\n",
       "      <td>This latest version of Echo Dot may be a bette...</td>\n",
       "      <td>Negative</td>\n",
       "      <td>Anger</td>\n",
       "      <td>{\"Voice Recognition\": \"Negative\", \"Music Strea...</td>\n",
       "      <td>this latest version of echo dot may be a bette...</td>\n",
       "    </tr>\n",
       "    <tr>\n",
       "      <th>2</th>\n",
       "      <td>Amazon Alexa</td>\n",
       "      <td>4</td>\n",
       "      <td>it could  not be possible to reset it at my ne...</td>\n",
       "      <td>Negative</td>\n",
       "      <td>Sadness</td>\n",
       "      <td>{\"Functionality\": \"Negative\"}</td>\n",
       "      <td>it could not be possible to reset it at my new...</td>\n",
       "    </tr>\n",
       "    <tr>\n",
       "      <th>3</th>\n",
       "      <td>Amazon Alexa</td>\n",
       "      <td>4</td>\n",
       "      <td>Nothing great then previous ones .</td>\n",
       "      <td>Neutral</td>\n",
       "      <td>Neutral</td>\n",
       "      <td>{\"Overall Quality\": \"Negative\"}</td>\n",
       "      <td>nothing great then previous ones</td>\n",
       "    </tr>\n",
       "    <tr>\n",
       "      <th>4</th>\n",
       "      <td>Amazon Alexa</td>\n",
       "      <td>4</td>\n",
       "      <td>AwesomeBut some time can not listenOver all good</td>\n",
       "      <td>Positive</td>\n",
       "      <td>Happiness</td>\n",
       "      <td>{\"Sound Quality\": \"Negative\", \"Overall Quality...</td>\n",
       "      <td>awesomebut some time can not listenover all good</td>\n",
       "    </tr>\n",
       "  </tbody>\n",
       "</table>\n",
       "</div>"
      ],
      "text/plain": [
       "       Category  Rating                                             Review  \\\n",
       "0  Amazon Alexa       4  I liked this gen very much. The only disadvant...   \n",
       "1  Amazon Alexa       3  This latest version of Echo Dot may be a bette...   \n",
       "2  Amazon Alexa       4  it could  not be possible to reset it at my ne...   \n",
       "3  Amazon Alexa       4                 Nothing great then previous ones .   \n",
       "4  Amazon Alexa       4   AwesomeBut some time can not listenOver all good   \n",
       "\n",
       "  Sentiment    Emotion                                          Decisions  \\\n",
       "0   Neutral    Sadness  {\"Overall Quality\": \"Positive\", \"Voice Recogni...   \n",
       "1  Negative      Anger  {\"Voice Recognition\": \"Negative\", \"Music Strea...   \n",
       "2  Negative    Sadness                      {\"Functionality\": \"Negative\"}   \n",
       "3   Neutral    Neutral                    {\"Overall Quality\": \"Negative\"}   \n",
       "4  Positive  Happiness  {\"Sound Quality\": \"Negative\", \"Overall Quality...   \n",
       "\n",
       "                                     Cleaned_Reviews  \n",
       "0  i liked this gen very much the only disadvanta...  \n",
       "1  this latest version of echo dot may be a bette...  \n",
       "2  it could not be possible to reset it at my new...  \n",
       "3                   nothing great then previous ones  \n",
       "4   awesomebut some time can not listenover all good  "
      ]
     },
     "execution_count": 8,
     "metadata": {},
     "output_type": "execute_result"
    }
   ],
   "source": [
    "# Apply Data Cleaning\n",
    "df['Cleaned_Reviews'] = df['Review'].apply(clean_review_absa)\n",
    "print(df.shape)\n",
    "df.head()"
   ]
  },
  {
   "cell_type": "code",
   "execution_count": 27,
   "id": "bcf3d2f5",
   "metadata": {},
   "outputs": [],
   "source": [
    "df.to_csv(\"D:/MSc/Sentiment & Emotion Intelligence/dataset/Product Reviews - ABSA - Cleaned.csv\", index=False)"
   ]
  },
  {
   "cell_type": "markdown",
   "id": "d8351331",
   "metadata": {},
   "source": [
    "### Train-Test Split"
   ]
  },
  {
   "cell_type": "code",
   "execution_count": 9,
   "id": "b89663fd",
   "metadata": {},
   "outputs": [
    {
     "name": "stdout",
     "output_type": "stream",
     "text": [
      "Train Dataset:  1668\n",
      "Testing Dataset:  295\n"
     ]
    }
   ],
   "source": [
    "from sklearn.model_selection import train_test_split\n",
    "\n",
    "train_df, test_df = train_test_split(df, test_size=0.15, random_state=42, stratify=df['Category'])\n",
    "\n",
    "print(\"Train Dataset: \", train_df.shape[0])\n",
    "print(\"Testing Dataset: \", test_df.shape[0])"
   ]
  },
  {
   "cell_type": "markdown",
   "id": "7e88f234",
   "metadata": {},
   "source": [
    "### Few-Shot Selection"
   ]
  },
  {
   "cell_type": "code",
   "execution_count": 10,
   "id": "0e08c00c",
   "metadata": {},
   "outputs": [],
   "source": [
    "import json\n",
    "from collections import defaultdict\n",
    "\n",
    "# Few-shot example selection per category\n",
    "def select_diverse_fewshot_examples(category_df, k=10):\n",
    "    aspect_sentiment_map = defaultdict(list)\n",
    "    \n",
    "    # Group reviews by (aspect, sentiment) to ensure diversity\n",
    "    for _, row in category_df.iterrows():\n",
    "        try:\n",
    "            label_dict = json.loads(row[\"Decisions\"])  # Convert string to dict\n",
    "        except:\n",
    "            label_dict = row[\"Decisions\"]  # In case it's already a dict\n",
    "\n",
    "        review = row[\"Cleaned_Reviews\"]\n",
    "        \n",
    "        # Store the full label_dict under a unique key (tuple of sorted items)\n",
    "        key = tuple(sorted(label_dict.items()))  # To uniquely identify this combination\n",
    "        \n",
    "        aspect_sentiment_map[key].append(review)\n",
    "    \n",
    "    # Shuffle and select up to k diverse examples\n",
    "    selected = []\n",
    "    used_keys = set()\n",
    "    \n",
    "    for key, reviews in aspect_sentiment_map.items():\n",
    "        if len(selected) >= k:\n",
    "            break\n",
    "        if key not in used_keys:\n",
    "            # Convert tuple of tuples to a dictionary\n",
    "            label_dict = dict(key)\n",
    "            selected.append((reviews[0], label_dict))  # pick one example per group\n",
    "            used_keys.add(key)\n",
    "    \n",
    "    # Fill remaining slots with random samples if needed\n",
    "    while len(selected) < k:\n",
    "        row = category_df.sample(1).iloc[0]\n",
    "        try:\n",
    "            label_dict = json.loads(row[\"Decisions\"])\n",
    "        except:\n",
    "            label_dict = row[\"Decisions\"]\n",
    "        selected.append((row[\"Cleaned_Reviews\"], label_dict))\n",
    "    \n",
    "    return selected[:k]"
   ]
  },
  {
   "cell_type": "code",
   "execution_count": 36,
   "id": "a70d7a8a",
   "metadata": {},
   "outputs": [
    {
     "data": {
      "text/plain": [
       "[('it is an excellent companion however it has few flaws as listed below as per two days of usage1 playing same songs again and again forcing to buy a package from the music partners also the playlist always starts from the same song and continues the same list even though shuffle is enabled that is why 1 star less2 not giving appropriate answers sometimes3 not having a memory like google assistant not remembering the things happened4 even though profile is created for specific person it is responding to all voices no use for profile creation except remembering the profile nameoverall it needs a few updates to solve the bugs however it is the best companion and a new family member',\n",
       "  {'Memory Function': 'Negative',\n",
       "   'Music Playback': 'Negative',\n",
       "   'Overall Quality': 'Positive',\n",
       "   'User Profile Handling': 'Negative',\n",
       "   'Voice Recognition': 'Negative'}),\n",
       " ('now it is our member of familybest in all respects',\n",
       "  {'Overall Quality': 'Positive'}),\n",
       " ('no batteries always needs to be plugged in to power outlet speaker quality is not that good although it is responsive when it is called bot but it sometimes lacks the ability to proceed information there built in motion detection was not working in the piece that i got and is calling out the temperate that the weather forecast is showing though the builtin temperature sensor for calibrated still it is telling the data provided by the weather stations',\n",
       "  {'Battery Life': 'Negative',\n",
       "   'Functionality': 'Negative',\n",
       "   'Motion Detection': 'Negative',\n",
       "   'Sound Quality': 'Negative',\n",
       "   'Temperature Sensor': 'Negative'}),\n",
       " ('like sound and mic responsedislike not much added feature the sensor do not work perfectly for turning on the smart light',\n",
       "  {'Functionality': 'Negative',\n",
       "   'Microphone': 'Positive',\n",
       "   'Sound Quality': 'Positive'}),\n",
       " ('product is good but sound quality is not great after paying 55k i expected bit high volume and better bass quality',\n",
       "  {'Overall Quality': 'Positive', 'Sound Quality': 'Negative'}),\n",
       " ('experience is being gathered will review after some time',\n",
       "  {'No Aspect': 'Neutral'}),\n",
       " ('very good connectivity with iphone and android both sound quality build quality macho',\n",
       "  {'Build Quality': 'Positive',\n",
       "   'Connectivity': 'Positive',\n",
       "   'Sound Quality': 'Positive'}),\n",
       " ('nice productgood looking', {'Design': 'Positive'}),\n",
       " ('i am using this for more than 2 months nowpros good speakers sound does not cracks on high volume compact and handycons the touch to stop does not work so accurately sometimes difficult to make the alexa algorithm understand about the songcommand we want it to work for',\n",
       "  {'Portability': 'Positive',\n",
       "   'Sound Quality': 'Positive',\n",
       "   'Touch Sensitivity': 'Negative',\n",
       "   'Voice Recognition': 'Negative'}),\n",
       " ('voice recognition is worse than previous generations it is not worth the price tag',\n",
       "  {'Overall Quality': 'Negative', 'Voice Recognition': 'Negative'})]"
      ]
     },
     "execution_count": 36,
     "metadata": {},
     "output_type": "execute_result"
    }
   ],
   "source": [
    "category_examples = train_df[train_df[\"Category\"] == \"Amazon Alexa\"]\n",
    "fewshot_examples = select_diverse_fewshot_examples(category_examples, k=10)\n",
    "fewshot_examples"
   ]
  },
  {
   "cell_type": "code",
   "execution_count": 37,
   "id": "4c23db79",
   "metadata": {},
   "outputs": [
    {
     "name": "stdout",
     "output_type": "stream",
     "text": [
      "Review: it is an excellent companion however it has few flaws as listed below as per two days of usage1 playing same songs again and again forcing to buy a package from the music partners also the playlist always starts from the same song and continues the same list even though shuffle is enabled that is why 1 star less2 not giving appropriate answers sometimes3 not having a memory like google assistant not remembering the things happened4 even though profile is created for specific person it is responding to all voices no use for profile creation except remembering the profile nameoverall it needs a few updates to solve the bugs however it is the best companion and a new family member\n",
      "ABSA: {\"Memory Function\": \"Negative\", \"Music Playback\": \"Negative\", \"Overall Quality\": \"Positive\", \"User Profile Handling\": \"Negative\", \"Voice Recognition\": \"Negative\"}\n",
      "\n",
      "Review: now it is our member of familybest in all respects\n",
      "ABSA: {\"Overall Quality\": \"Positive\"}\n",
      "\n",
      "Review: no batteries always needs to be plugged in to power outlet speaker quality is not that good although it is responsive when it is called bot but it sometimes lacks the ability to proceed information there built in motion detection was not working in the piece that i got and is calling out the temperate that the weather forecast is showing though the builtin temperature sensor for calibrated still it is telling the data provided by the weather stations\n",
      "ABSA: {\"Battery Life\": \"Negative\", \"Functionality\": \"Negative\", \"Motion Detection\": \"Negative\", \"Sound Quality\": \"Negative\", \"Temperature Sensor\": \"Negative\"}\n",
      "\n",
      "Review: like sound and mic responsedislike not much added feature the sensor do not work perfectly for turning on the smart light\n",
      "ABSA: {\"Functionality\": \"Negative\", \"Microphone\": \"Positive\", \"Sound Quality\": \"Positive\"}\n",
      "\n",
      "Review: product is good but sound quality is not great after paying 55k i expected bit high volume and better bass quality\n",
      "ABSA: {\"Overall Quality\": \"Positive\", \"Sound Quality\": \"Negative\"}\n",
      "\n",
      "Review: experience is being gathered will review after some time\n",
      "ABSA: {\"No Aspect\": \"Neutral\"}\n",
      "\n",
      "Review: very good connectivity with iphone and android both sound quality build quality macho\n",
      "ABSA: {\"Build Quality\": \"Positive\", \"Connectivity\": \"Positive\", \"Sound Quality\": \"Positive\"}\n",
      "\n",
      "Review: nice productgood looking\n",
      "ABSA: {\"Design\": \"Positive\"}\n",
      "\n",
      "Review: i am using this for more than 2 months nowpros good speakers sound does not cracks on high volume compact and handycons the touch to stop does not work so accurately sometimes difficult to make the alexa algorithm understand about the songcommand we want it to work for\n",
      "ABSA: {\"Portability\": \"Positive\", \"Sound Quality\": \"Positive\", \"Touch Sensitivity\": \"Negative\", \"Voice Recognition\": \"Negative\"}\n",
      "\n",
      "Review: voice recognition is worse than previous generations it is not worth the price tag\n",
      "ABSA: {\"Overall Quality\": \"Negative\", \"Voice Recognition\": \"Negative\"}\n",
      "\n"
     ]
    }
   ],
   "source": [
    "for example, label_dict in fewshot_examples:\n",
    "    print(f\"Review: {example}\\nABSA: {json.dumps(label_dict)}\\n\")"
   ]
  },
  {
   "cell_type": "markdown",
   "id": "e184e695",
   "metadata": {},
   "source": [
    "### LLM Prompt Construction"
   ]
  },
  {
   "cell_type": "code",
   "execution_count": 11,
   "id": "41a9a167",
   "metadata": {},
   "outputs": [],
   "source": [
    "def build_prompt(review, category, train_df):\n",
    "    category_examples = train_df[train_df[\"Category\"] == category]\n",
    "    fewshot_examples = select_diverse_fewshot_examples(category_examples, k=10)\n",
    "\n",
    "    prompt = (\n",
    "\"\"\"\n",
    "You are an expert in Aspect-Based Sentiment Analysis (ABSA) for e-commerce reviews.\n",
    "Extract product-related aspects (explicit or implicit) and assign sentiment (\"Positive\", \"Negative\", \"Neutral\").\n",
    "\n",
    "⚠️ Only extract meaningful aspects related to the product's qualities or functions. Ignore delivery experience, pricing (unless about value), seller or service feedback, and unrelated opinions.\n",
    "\n",
    "📌 Output Format (per review):\n",
    "{\n",
    "  \"Aspect 1\": \"Sentiment\",\n",
    "  \"Aspect 2\": \"Sentiment\",\n",
    "  ...\n",
    "}\n",
    "\n",
    "🎯 Common Aspects Across Categories:\n",
    "- **General**: Quality, Durability, Design, Size, Color, Fit, Packaging, Instructions, Functionality, Value, Material, Image Accuracy\n",
    "- **Electronics**: Battery Life, Sound Quality, Display, Performance, Connectivity, Portability, Build, Accessories\n",
    "- **Clothing**: Comfort, Stretch, Fabric, Fit, Style, Stitching\n",
    "- **Musical Instruments**: Tuning Stability, Tone, Sustain, Playability, Craftsmanship\n",
    "- **Toys & Games**: Safety, Educational Value, Engagement, Durability\n",
    "- **Health & Beauty**: Effectiveness, Scent, Skin Feel, Absorption, Sensitivity\n",
    "- **Pet Supplies**: Chew Resistance, Safety, Pet Engagement, Allergic Reaction\n",
    "- **Home & Garden**: Assembly, Cleaning Ease, Sturdiness, Weather Resistance\n",
    "- **Office Supplies**: Ink Quality, Print Clarity, Ergonomics, Grip, Paper Compatibility\n",
    "\n",
    "🧠 Special Cases:\n",
    "\n",
    "1. **No clear aspect** → Use `\"Overall Quality\": \"Sentiment\"`\n",
    "   - \"Works well!\" → {\"Overall Quality\": \"Positive\"}\n",
    "\n",
    "2. **Sarcasm / Implicit sentiment**\n",
    "   - \"Fantastic. Broke in two days.\" → {\"Durability\": \"Negative\"}\n",
    "   - \"It's supposed to glow, but it doesn't.\" → {\"Functionality\": \"Negative\"}\n",
    "\n",
    "3. **Mixed Sentiment**\n",
    "   - \"Comfortable shoes, but stitching came loose.\" → {\"Comfort\": \"Positive\", \"Stitching\": \"Negative\"}\n",
    "\n",
    "4. **Image or Expectation Mismatch**\n",
    "   - \"Looks nothing like the ad.\" → {\"Image Accuracy\": \"Negative\"}\n",
    "\n",
    "5. **Factual with no sentiment** → Assign \"Neutral\"\n",
    "   - \"Smaller than expected.\" → {\"Size\": \"Neutral\"}\n",
    "\n",
    "\"\"\"\n",
    "    )\n",
    "\n",
    "    for example, label_dict in fewshot_examples:\n",
    "        prompt += f\"Review: {example}\\n→ ABSA: {json.dumps(label_dict)}\\n\"\n",
    "\n",
    "    prompt += f\"\\nNow, analyze the following review and return the output as a valid JSON object:\\nReview: {review}\\nABSA:\"\n",
    "    \n",
    "    return prompt"
   ]
  },
  {
   "cell_type": "code",
   "execution_count": 48,
   "id": "94d13389",
   "metadata": {},
   "outputs": [
    {
     "name": "stdout",
     "output_type": "stream",
     "text": [
      "\n",
      "You are an expert in Aspect-Based Sentiment Analysis (ABSA) for e-commerce reviews.\n",
      "Extract product-related aspects (explicit or implicit) and assign sentiment (\"Positive\", \"Negative\", \"Neutral\").\n",
      "\n",
      "⚠️ Only extract meaningful aspects related to the product's qualities or functions. Ignore delivery experience, pricing (unless about value), seller or service feedback, and unrelated opinions.\n",
      "\n",
      "📌 Output Format (per review):\n",
      "{\n",
      "  \"Aspect 1\": \"Sentiment\",\n",
      "  \"Aspect 2\": \"Sentiment\",\n",
      "  ...\n",
      "}\n",
      "\n",
      "---\n",
      "\n",
      "🎯 Common Aspects Across Categories:\n",
      "- **General**: Quality, Durability, Design, Size, Color, Fit, Packaging, Instructions, Functionality, Value, Material, Image Accuracy\n",
      "- **Electronics**: Battery Life, Sound Quality, Display, Performance, Connectivity, Portability, Build, Accessories\n",
      "- **Clothing**: Comfort, Stretch, Fabric, Fit, Style, Stitching\n",
      "- **Musical Instruments**: Tuning Stability, Tone, Sustain, Playability, Craftsmanship\n",
      "- **Toys & Games**: Safety, Educational Value, Engagement, Durability\n",
      "- **Health & Beauty**: Effectiveness, Scent, Skin Feel, Absorption, Sensitivity\n",
      "- **Pet Supplies**: Chew Resistance, Safety, Pet Engagement, Allergic Reaction\n",
      "- **Home & Garden**: Assembly, Cleaning Ease, Sturdiness, Weather Resistance\n",
      "- **Office Supplies**: Ink Quality, Print Clarity, Ergonomics, Grip, Paper Compatibility\n",
      "\n",
      "---\n",
      "\n",
      "🧠 Special Cases:\n",
      "\n",
      "1. **No clear aspect** → Use `\"Overall Quality\": \"Sentiment\"`\n",
      "   - \"Works well!\" → {\"Overall Quality\": \"Positive\"}\n",
      "\n",
      "2. **Sarcasm / Implicit sentiment**\n",
      "   - \"Fantastic. Broke in two days.\" → {\"Durability\": \"Negative\"}\n",
      "   - \"It's supposed to glow, but it doesn't.\" → {\"Functionality\": \"Negative\"}\n",
      "\n",
      "3. **Mixed Sentiment**\n",
      "   - \"Comfortable shoes, but stitching came loose.\" → {\"Comfort\": \"Positive\", \"Stitching\": \"Negative\"}\n",
      "\n",
      "4. **Image or Expectation Mismatch**\n",
      "   - \"Looks nothing like the ad.\" → {\"Image Accuracy\": \"Negative\"}\n",
      "\n",
      "5. **Factual with no sentiment** → Assign \"Neutral\"\n",
      "   - \"Smaller than expected.\" → {\"Size\": \"Neutral\"}\n",
      "\n",
      "---\n",
      "\n",
      "Review: they where to thin\n",
      "→ ABSA: {\"Material\": \"Negative\"}\n",
      "Review: great colors and not too voluminous lined whig will be great for fall but the downsides are the huge elastic waist because it will require a belt or something over it looks v casual alone and even with a perfect fit it gives a bit of muffin just because it is a huge piece of elastic i have literally tried this on on two occasions trying to convince myself it it lol but it is not worth it at the current price\n",
      "→ ABSA: {\"Color\": \"Positive\", \"Design\": \"Negative\", \"Fit\": \"Negative\", \"Price\": \"Negative\"}\n",
      "Review: i tried these on at my local retailer and was like no way am i spending almost 300 on a pair of jeans alas i could not stop thinking about them the pictures really do not do them justice they are a more substantial jean have a distressed look without being fragile and yet they are so soft so comfortable you really just do not want to take them off they do have a bit of stretch but hold their shape all day long the length and taper are perfect in that you can wear them with boots san\n",
      "→ ABSA: {\"Comfort\": \"Positive\", \"Design\": \"Positive\", \"Fit\": \"Positive\", \"Material\": \"Positive\"}\n",
      "Review: pants fits as expected soft material stretches with your movements zipper line does not stay vertical but seems to lean to one side i have to keep pulling it back straight\n",
      "→ ABSA: {\"Fit\": \"Positive\", \"Material\": \"Positive\", \"Zipper\": \"Negative\"}\n",
      "Review: i liked the fit very good\n",
      "→ ABSA: {\"Fit\": \"Positive\"}\n",
      "Review: pants fit great true to size did not stretch like some of the retailer pants that you need to buy in a smaller size love that the calf is bigger than most of their pants which are usually too narrow for my bigger calves very comfy look great with a white shirt and tie die is subtle they will be a staple summer pair of pants\n",
      "→ ABSA: {\"Comfort\": \"Positive\", \"Design\": \"Positive\", \"Fit\": \"Positive\"}\n",
      "Review: cute shorts with great fabric and lined so they lay smooth over your body i really love that the material has a dressier feel but they ran a bit large and looked sort of frumpy on me curvy body 170 cm 150 i am returning them and trying a small elastic waist is great for me after having a baby but would look just fine under a belt or covered by a shirt\n",
      "→ ABSA: {\"Comfort\": \"Positive\", \"Fit\": \"Negative\", \"Material\": \"Positive\"}\n",
      "Review: badly sized scaling\n",
      "→ ABSA: {\"Size\": \"Negative\"}\n",
      "Review: they are pretty tight in crotch area which makes them uncomfortable at times\n",
      "→ ABSA: {\"Comfort\": \"Negative\", \"Fit\": \"Negative\"}\n",
      "Review: quality does matter but also my size 36 seemed a smidge too small great quality and under suggested retail fits great under the knees and has plenty of pockets\n",
      "→ ABSA: {\"Fit\": \"Positive\", \"Functionality\": \"Positive\", \"Quality\": \"Positive\", \"Size\": \"Negative\"}\n",
      "\n",
      "Now, analyze the following review and return the output as a valid JSON object:\n",
      "Review: I did like the material is was soft breathable waste band nice and comfy\n",
      "ABSA:\n"
     ]
    }
   ],
   "source": [
    "prompt = build_prompt(test_df['Review'].iloc[0], test_df['Category'].iloc[0], train_df)\n",
    "print(prompt)"
   ]
  },
  {
   "cell_type": "markdown",
   "id": "c1f3fbcd",
   "metadata": {},
   "source": [
    "### Model Inference"
   ]
  },
  {
   "cell_type": "code",
   "execution_count": 12,
   "id": "fd6fb36a",
   "metadata": {},
   "outputs": [],
   "source": [
    "# Setup LLM\n",
    "import os\n",
    "from dotenv import load_dotenv\n",
    "from langchain_groq import ChatGroq\n",
    "\n",
    "load_dotenv()\n",
    "\n",
    "llm = ChatGroq(model=\"llama3-70b-8192\", temperature=0.3, api_key=os.getenv(\"GROQ_API_KEY\"))"
   ]
  },
  {
   "cell_type": "code",
   "execution_count": 13,
   "id": "2e87fa42",
   "metadata": {},
   "outputs": [],
   "source": [
    "# Setup LLM Chain \n",
    "from langchain.prompts import PromptTemplate\n",
    "from langchain.chains import LLMChain\n",
    "\n",
    "llm_chain = LLMChain(llm=llm, prompt=PromptTemplate.from_template(\"{input}\"))"
   ]
  },
  {
   "cell_type": "code",
   "execution_count": 20,
   "id": "f5f2d65a",
   "metadata": {},
   "outputs": [
    {
     "name": "stderr",
     "output_type": "stream",
     "text": [
      "100%|██████████| 143/143 [28:45<00:00, 12.07s/it]\n"
     ]
    }
   ],
   "source": [
    "import ast\n",
    "from tqdm import tqdm\n",
    "\n",
    "true_labels = []\n",
    "pred_absa = []\n",
    "\n",
    "for _, row in tqdm(test_df.iloc[152:].iterrows(), total=len(test_df.iloc[152:])):\n",
    "    review = row[\"Cleaned_Reviews\"]\n",
    "    category = row[\"Category\"]\n",
    "    true_labels.append(json.loads(row[\"Decisions\"]))\n",
    "    \n",
    "    # Build prompt and get prediction\n",
    "    prompt = build_prompt(review, category, train_df)\n",
    "    response = llm_chain.run(prompt)\n",
    "    \n",
    "    try:\n",
    "        pred_dict = ast.literal_eval(response.strip())\n",
    "    except Exception as e:\n",
    "        pred_dict = {}\n",
    "    \n",
    "    pred_absa.append(pred_dict)"
   ]
  },
  {
   "cell_type": "code",
   "execution_count": 18,
   "id": "dc1811aa",
   "metadata": {},
   "outputs": [],
   "source": [
    "pred_absa_1 = pred_absa"
   ]
  },
  {
   "cell_type": "code",
   "execution_count": 23,
   "id": "11a6f2db",
   "metadata": {},
   "outputs": [
    {
     "data": {
      "text/plain": [
       "295"
      ]
     },
     "execution_count": 23,
     "metadata": {},
     "output_type": "execute_result"
    }
   ],
   "source": [
    "new_pred_absa = pred_absa_1 + pred_absa\n",
    "len(new_pred_absa)"
   ]
  },
  {
   "cell_type": "code",
   "execution_count": 24,
   "id": "dea95fba",
   "metadata": {},
   "outputs": [
    {
     "name": "stdout",
     "output_type": "stream",
     "text": [
      "(295, 8)\n"
     ]
    },
    {
     "data": {
      "text/html": [
       "<div>\n",
       "<style scoped>\n",
       "    .dataframe tbody tr th:only-of-type {\n",
       "        vertical-align: middle;\n",
       "    }\n",
       "\n",
       "    .dataframe tbody tr th {\n",
       "        vertical-align: top;\n",
       "    }\n",
       "\n",
       "    .dataframe thead th {\n",
       "        text-align: right;\n",
       "    }\n",
       "</style>\n",
       "<table border=\"1\" class=\"dataframe\">\n",
       "  <thead>\n",
       "    <tr style=\"text-align: right;\">\n",
       "      <th></th>\n",
       "      <th>Category</th>\n",
       "      <th>Rating</th>\n",
       "      <th>Review</th>\n",
       "      <th>Sentiment</th>\n",
       "      <th>Emotion</th>\n",
       "      <th>Decisions</th>\n",
       "      <th>Cleaned_Reviews</th>\n",
       "      <th>Predicted ABSA</th>\n",
       "    </tr>\n",
       "  </thead>\n",
       "  <tbody>\n",
       "    <tr>\n",
       "      <th>927</th>\n",
       "      <td>Electronics,Media</td>\n",
       "      <td>5</td>\n",
       "      <td>Kindle Voyage is absolutely the best! Easy to ...</td>\n",
       "      <td>Positive</td>\n",
       "      <td>Happiness</td>\n",
       "      <td>{\"Display\": \"Positive\", \"Portability\": \"Positi...</td>\n",
       "      <td>kindle voyage is absolutely the best easy to r...</td>\n",
       "      <td>{'Display': 'Positive', 'Portability': 'Positi...</td>\n",
       "    </tr>\n",
       "    <tr>\n",
       "      <th>1447</th>\n",
       "      <td>Bottoms</td>\n",
       "      <td>3</td>\n",
       "      <td>I typically wear a 4/6 but am a little bigger ...</td>\n",
       "      <td>Negative</td>\n",
       "      <td>Sadness</td>\n",
       "      <td>{\"Material\": \"Negative\", \"Fit\": \"Negative\"}</td>\n",
       "      <td>i typically wear a 46 but am a little bigger r...</td>\n",
       "      <td>{'Comfort': 'Negative', 'Size': 'Negative'}</td>\n",
       "    </tr>\n",
       "    <tr>\n",
       "      <th>981</th>\n",
       "      <td>Tops</td>\n",
       "      <td>3</td>\n",
       "      <td>This shirt is beautiful, however i thought tha...</td>\n",
       "      <td>Negative</td>\n",
       "      <td>Sadness</td>\n",
       "      <td>{\"Material\": \"Negative\", \"Fit\": \"Negative\"}</td>\n",
       "      <td>this shirt is beautiful however i thought that...</td>\n",
       "      <td>{'Design': 'Positive', 'Material': 'Negative',...</td>\n",
       "    </tr>\n",
       "    <tr>\n",
       "      <th>206</th>\n",
       "      <td>Toys &amp; Games,Electronics</td>\n",
       "      <td>5</td>\n",
       "      <td>Gave to my great nephew. 2.5 yrs old. He loves...</td>\n",
       "      <td>Positive</td>\n",
       "      <td>Happiness</td>\n",
       "      <td>{\"Entertainment\": \"Positive\"}</td>\n",
       "      <td>gave to my great nephew 25 yrs old he loves it...</td>\n",
       "      <td>{'Parental Controls': 'Positive'}</td>\n",
       "    </tr>\n",
       "    <tr>\n",
       "      <th>89</th>\n",
       "      <td>Toys &amp; Games,Electronics</td>\n",
       "      <td>5</td>\n",
       "      <td>I love that you can read books as well as play...</td>\n",
       "      <td>Positive</td>\n",
       "      <td>Happiness</td>\n",
       "      <td>{\"Reading Functionality\": \"Positive\", \"Games\":...</td>\n",
       "      <td>i love that you can read books as well as play...</td>\n",
       "      <td>{'Functionality': 'Positive', 'Portability': '...</td>\n",
       "    </tr>\n",
       "  </tbody>\n",
       "</table>\n",
       "</div>"
      ],
      "text/plain": [
       "                      Category  Rating  \\\n",
       "927          Electronics,Media       5   \n",
       "1447                   Bottoms       3   \n",
       "981                       Tops       3   \n",
       "206   Toys & Games,Electronics       5   \n",
       "89    Toys & Games,Electronics       5   \n",
       "\n",
       "                                                 Review Sentiment    Emotion  \\\n",
       "927   Kindle Voyage is absolutely the best! Easy to ...  Positive  Happiness   \n",
       "1447  I typically wear a 4/6 but am a little bigger ...  Negative    Sadness   \n",
       "981   This shirt is beautiful, however i thought tha...  Negative    Sadness   \n",
       "206   Gave to my great nephew. 2.5 yrs old. He loves...  Positive  Happiness   \n",
       "89    I love that you can read books as well as play...  Positive  Happiness   \n",
       "\n",
       "                                              Decisions  \\\n",
       "927   {\"Display\": \"Positive\", \"Portability\": \"Positi...   \n",
       "1447        {\"Material\": \"Negative\", \"Fit\": \"Negative\"}   \n",
       "981         {\"Material\": \"Negative\", \"Fit\": \"Negative\"}   \n",
       "206                       {\"Entertainment\": \"Positive\"}   \n",
       "89    {\"Reading Functionality\": \"Positive\", \"Games\":...   \n",
       "\n",
       "                                        Cleaned_Reviews  \\\n",
       "927   kindle voyage is absolutely the best easy to r...   \n",
       "1447  i typically wear a 46 but am a little bigger r...   \n",
       "981   this shirt is beautiful however i thought that...   \n",
       "206   gave to my great nephew 25 yrs old he loves it...   \n",
       "89    i love that you can read books as well as play...   \n",
       "\n",
       "                                         Predicted ABSA  \n",
       "927   {'Display': 'Positive', 'Portability': 'Positi...  \n",
       "1447        {'Comfort': 'Negative', 'Size': 'Negative'}  \n",
       "981   {'Design': 'Positive', 'Material': 'Negative',...  \n",
       "206                   {'Parental Controls': 'Positive'}  \n",
       "89    {'Functionality': 'Positive', 'Portability': '...  "
      ]
     },
     "execution_count": 24,
     "metadata": {},
     "output_type": "execute_result"
    }
   ],
   "source": [
    "new_df = test_df.copy()\n",
    "new_df['Predicted ABSA'] = new_pred_absa\n",
    "print(new_df.shape)\n",
    "new_df.head()"
   ]
  },
  {
   "cell_type": "code",
   "execution_count": 25,
   "id": "e8a2b562",
   "metadata": {},
   "outputs": [],
   "source": [
    "new_df.to_csv(\"D:/MSc/Sentiment & Emotion Intelligence/dataset/Product Reviews - ABSA - Predicted.csv\", index=False)"
   ]
  }
 ],
 "metadata": {
  "kernelspec": {
   "display_name": "base",
   "language": "python",
   "name": "python3"
  },
  "language_info": {
   "codemirror_mode": {
    "name": "ipython",
    "version": 3
   },
   "file_extension": ".py",
   "mimetype": "text/x-python",
   "name": "python",
   "nbconvert_exporter": "python",
   "pygments_lexer": "ipython3",
   "version": "3.11.7"
  }
 },
 "nbformat": 4,
 "nbformat_minor": 5
}
